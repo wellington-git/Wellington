{
  "nbformat": 4,
  "nbformat_minor": 0,
  "metadata": {
    "colab": {
      "provenance": [],
      "authorship_tag": "ABX9TyPz7LAXY/vVJ7gxMYLJrQ8d",
      "include_colab_link": true
    },
    "kernelspec": {
      "name": "python3",
      "display_name": "Python 3"
    },
    "language_info": {
      "name": "python"
    }
  },
  "cells": [
    {
      "cell_type": "markdown",
      "metadata": {
        "id": "view-in-github",
        "colab_type": "text"
      },
      "source": [
        "<a href=\"https://colab.research.google.com/github/wellington-git/Wellington/blob/main/aula1_python_fisico.ipynb\" target=\"_parent\"><img src=\"https://colab.research.google.com/assets/colab-badge.svg\" alt=\"Open In Colab\"/></a>"
      ]
    },
    {
      "cell_type": "code",
      "execution_count": 49,
      "metadata": {
        "id": "H8Eg1pTxeopt"
      },
      "outputs": [],
      "source": [
        "import numpy as np\n",
        "import matplotlib.pyplot as plt\n",
        "\n"
      ]
    },
    {
      "cell_type": "code",
      "source": [
        "from numpy.core.multiarray import array\n",
        "np.linspace (1,2,3,4)\n"
      ],
      "metadata": {
        "colab": {
          "base_uri": "https://localhost:8080/"
        },
        "id": "Mz8eih89iXzQ",
        "outputId": "e9f8a5bb-dc77-462a-de79-0d1470ee7609"
      },
      "execution_count": 10,
      "outputs": [
        {
          "output_type": "execute_result",
          "data": {
            "text/plain": [
              "array([1. , 1.5, 2. ])"
            ]
          },
          "metadata": {},
          "execution_count": 10
        }
      ]
    },
    {
      "cell_type": "code",
      "source": [
        "a = np.array([1,2,3])\n",
        "b = np.array([2,3,4])\n",
        ""
      ],
      "metadata": {
        "id": "gk53VvgBimae"
      },
      "execution_count": 11,
      "outputs": []
    },
    {
      "cell_type": "code",
      "source": [
        "a+b"
      ],
      "metadata": {
        "colab": {
          "base_uri": "https://localhost:8080/"
        },
        "id": "Zde_Fr-gkp3B",
        "outputId": "89cdd14e-9c89-454d-ac0c-541e3c2c64bb"
      },
      "execution_count": 12,
      "outputs": [
        {
          "output_type": "execute_result",
          "data": {
            "text/plain": [
              "array([3, 5, 7])"
            ]
          },
          "metadata": {},
          "execution_count": 12
        }
      ]
    },
    {
      "cell_type": "code",
      "source": [
        "a = 2*np.linspace(1,6.6)\n",
        "a"
      ],
      "metadata": {
        "colab": {
          "base_uri": "https://localhost:8080/"
        },
        "id": "JhgVT5cWlFGg",
        "outputId": "cc986b8f-3cd1-423b-d16b-50c58ab58c26"
      },
      "execution_count": 13,
      "outputs": [
        {
          "output_type": "execute_result",
          "data": {
            "text/plain": [
              "array([ 2.        ,  2.22857143,  2.45714286,  2.68571429,  2.91428571,\n",
              "        3.14285714,  3.37142857,  3.6       ,  3.82857143,  4.05714286,\n",
              "        4.28571429,  4.51428571,  4.74285714,  4.97142857,  5.2       ,\n",
              "        5.42857143,  5.65714286,  5.88571429,  6.11428571,  6.34285714,\n",
              "        6.57142857,  6.8       ,  7.02857143,  7.25714286,  7.48571429,\n",
              "        7.71428571,  7.94285714,  8.17142857,  8.4       ,  8.62857143,\n",
              "        8.85714286,  9.08571429,  9.31428571,  9.54285714,  9.77142857,\n",
              "       10.        , 10.22857143, 10.45714286, 10.68571429, 10.91428571,\n",
              "       11.14285714, 11.37142857, 11.6       , 11.82857143, 12.05714286,\n",
              "       12.28571429, 12.51428571, 12.74285714, 12.97142857, 13.2       ])"
            ]
          },
          "metadata": {},
          "execution_count": 13
        }
      ]
    },
    {
      "cell_type": "code",
      "source": [
        "t = a > 8\n",
        "t"
      ],
      "metadata": {
        "colab": {
          "base_uri": "https://localhost:8080/"
        },
        "id": "R-_rskP7lQ7W",
        "outputId": "eca74302-4b48-4bf0-a0ca-aad863d1c02c"
      },
      "execution_count": 14,
      "outputs": [
        {
          "output_type": "execute_result",
          "data": {
            "text/plain": [
              "array([False, False, False, False, False, False, False, False, False,\n",
              "       False, False, False, False, False, False, False, False, False,\n",
              "       False, False, False, False, False, False, False, False, False,\n",
              "        True,  True,  True,  True,  True,  True,  True,  True,  True,\n",
              "        True,  True,  True,  True,  True,  True,  True,  True,  True,\n",
              "        True,  True,  True,  True,  True])"
            ]
          },
          "metadata": {},
          "execution_count": 14
        }
      ]
    },
    {
      "cell_type": "code",
      "source": [
        "b = a [a > 8]\n",
        "b"
      ],
      "metadata": {
        "colab": {
          "base_uri": "https://localhost:8080/"
        },
        "id": "GGlUIQPblkmg",
        "outputId": "0a60e34c-c52c-4b81-f1bb-e4c580e83006"
      },
      "execution_count": 15,
      "outputs": [
        {
          "output_type": "execute_result",
          "data": {
            "text/plain": [
              "array([ 8.17142857,  8.4       ,  8.62857143,  8.85714286,  9.08571429,\n",
              "        9.31428571,  9.54285714,  9.77142857, 10.        , 10.22857143,\n",
              "       10.45714286, 10.68571429, 10.91428571, 11.14285714, 11.37142857,\n",
              "       11.6       , 11.82857143, 12.05714286, 12.28571429, 12.51428571,\n",
              "       12.74285714, 12.97142857, 13.2       ])"
            ]
          },
          "metadata": {},
          "execution_count": 15
        }
      ]
    },
    {
      "cell_type": "code",
      "source": [
        "M = np.random.random((3,4))\n",
        "M"
      ],
      "metadata": {
        "colab": {
          "base_uri": "https://localhost:8080/"
        },
        "id": "7mbQM-eRnDem",
        "outputId": "7be0a6d5-3bdd-48c6-cbee-33c4ebfde810"
      },
      "execution_count": 17,
      "outputs": [
        {
          "output_type": "execute_result",
          "data": {
            "text/plain": [
              "array([[0.28453011, 0.2755733 , 0.87043422, 0.01350318],\n",
              "       [0.07187949, 0.56786359, 0.92318381, 0.84333926],\n",
              "       [0.26389334, 0.45263938, 0.54103638, 0.27297811]])"
            ]
          },
          "metadata": {},
          "execution_count": 17
        }
      ]
    },
    {
      "cell_type": "code",
      "source": [
        "M.sum()"
      ],
      "metadata": {
        "colab": {
          "base_uri": "https://localhost:8080/"
        },
        "id": "d9PvVRyunoUl",
        "outputId": "bd05b390-ecf5-4e2b-ac3d-14796669968f"
      },
      "execution_count": 18,
      "outputs": [
        {
          "output_type": "execute_result",
          "data": {
            "text/plain": [
              "5.380854168061638"
            ]
          },
          "metadata": {},
          "execution_count": 18
        }
      ]
    },
    {
      "cell_type": "code",
      "source": [
        "M.sum(axis=0)"
      ],
      "metadata": {
        "colab": {
          "base_uri": "https://localhost:8080/"
        },
        "id": "DuVAeDyInsDW",
        "outputId": "4d5f70c9-4d64-463b-e700-a84ab9b4c1de"
      },
      "execution_count": 19,
      "outputs": [
        {
          "output_type": "execute_result",
          "data": {
            "text/plain": [
              "array([0.62030295, 1.29607626, 2.33465442, 1.12982054])"
            ]
          },
          "metadata": {},
          "execution_count": 19
        }
      ]
    },
    {
      "cell_type": "code",
      "source": [
        "M.max(axis=1)"
      ],
      "metadata": {
        "colab": {
          "base_uri": "https://localhost:8080/"
        },
        "id": "lrHZO3CAn0Uy",
        "outputId": "8553daac-4397-4a9a-f0a8-f04347136045"
      },
      "execution_count": 20,
      "outputs": [
        {
          "output_type": "execute_result",
          "data": {
            "text/plain": [
              "array([0.87043422, 0.92318381, 0.54103638])"
            ]
          },
          "metadata": {},
          "execution_count": 20
        }
      ]
    },
    {
      "cell_type": "code",
      "source": [
        "M.min(axis=1)"
      ],
      "metadata": {
        "colab": {
          "base_uri": "https://localhost:8080/"
        },
        "id": "hidSWFthn3_u",
        "outputId": "4b7cb3de-6008-4ce5-97e6-cceb7f6d5163"
      },
      "execution_count": 25,
      "outputs": [
        {
          "output_type": "execute_result",
          "data": {
            "text/plain": [
              "array([0.01350318, 0.07187949, 0.26389334])"
            ]
          },
          "metadata": {},
          "execution_count": 25
        }
      ]
    },
    {
      "cell_type": "code",
      "source": [
        "a = np.array([0,1,3,5,6,9,11,15,16,13])\n",
        "a[0:6:1]   #como quero dois indíce realizo uma escolha 3"
      ],
      "metadata": {
        "colab": {
          "base_uri": "https://localhost:8080/"
        },
        "id": "mjCp6yAdo3p8",
        "outputId": "edfcaf95-ecfb-4559-85bc-f6e3f2bd7080"
      },
      "execution_count": 39,
      "outputs": [
        {
          "output_type": "execute_result",
          "data": {
            "text/plain": [
              "array([0, 1, 3, 5, 6, 9])"
            ]
          },
          "metadata": {},
          "execution_count": 39
        }
      ]
    },
    {
      "cell_type": "code",
      "source": [
        "a[0:-3:2] # [inical:final:passo]"
      ],
      "metadata": {
        "colab": {
          "base_uri": "https://localhost:8080/"
        },
        "id": "nt7NeLO-paw5",
        "outputId": "8dd74917-80de-4682-f603-dff716b61b00"
      },
      "execution_count": 44,
      "outputs": [
        {
          "output_type": "execute_result",
          "data": {
            "text/plain": [
              "array([ 0,  3,  6, 11])"
            ]
          },
          "metadata": {},
          "execution_count": 44
        }
      ]
    },
    {
      "cell_type": "code",
      "source": [
        "x = np.array([1,2,3,4,5])\n",
        "t = np.array([2,3,4,5,2])"
      ],
      "metadata": {
        "id": "Mbd11DlArd1C"
      },
      "execution_count": 45,
      "outputs": []
    },
    {
      "cell_type": "code",
      "source": [
        "v = x[1:]-x[:-1]/ t[1:] - t[:-1]\n",
        "print = v"
      ],
      "metadata": {
        "id": "ak6uFOQwrwoE"
      },
      "execution_count": 47,
      "outputs": []
    },
    {
      "cell_type": "code",
      "source": [
        "x = np.linspace(0,3*np.pi,50)\n",
        "y = np.sin(x)\n",
        "plt.plot(x,y)"
      ],
      "metadata": {
        "colab": {
          "base_uri": "https://localhost:8080/",
          "height": 447
        },
        "id": "bTutl7UKuXCm",
        "outputId": "bea514d3-a454-48d5-98a6-16c6dfd40be3"
      },
      "execution_count": 50,
      "outputs": [
        {
          "output_type": "execute_result",
          "data": {
            "text/plain": [
              "[<matplotlib.lines.Line2D at 0x789ea9098a60>]"
            ]
          },
          "metadata": {},
          "execution_count": 50
        },
        {
          "output_type": "display_data",
          "data": {
            "text/plain": [
              "<Figure size 640x480 with 1 Axes>"
            ],
            "image/png": "[encoded data removed]"
          },
          "metadata": {}
        }
      ]
    }
  ]
}